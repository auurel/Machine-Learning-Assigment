{
 "cells": [
  {
   "cell_type": "code",
   "execution_count": 1,
   "metadata": {},
   "outputs": [],
   "source": [
    "import pandas as pd\n",
    "from sklearn.preprocessing import LabelEncoder, MinMaxScaler"
   ]
  },
  {
   "cell_type": "code",
   "execution_count": 4,
   "metadata": {},
   "outputs": [],
   "source": [
    "df = pd.read_csv('CAD.csv')"
   ]
  },
  {
   "cell_type": "markdown",
   "metadata": {},
   "source": [
    "Menampilkan Data Awal"
   ]
  },
  {
   "cell_type": "code",
   "execution_count": 5,
   "metadata": {},
   "outputs": [
    {
     "name": "stdout",
     "output_type": "stream",
     "text": [
      "Data Awal:\n",
      "   No  Age  Weight  Length    Sex  BMI DM HTN Current Smoker EX-Smoker  ...  \\\n",
      "0   1   53      90     175   Male    ?  n   Y              Y         n  ...   \n",
      "1   2   67      70     157  Fmale  NaN  n   Y              n         n  ...   \n",
      "2   3   54      54     164   Male  NaN  n   n              Y         n  ...   \n",
      "3   4   66      67     158  Fmale  NaN  n   Y              n         n  ...   \n",
      "4   5   50      87     153  Fmale  NaN  n   Y              n         n  ...   \n",
      "\n",
      "     K   Na    WBC Lymph Neut  PLT EF-TTE Region RWMA     VHD    Cath  \n",
      "0  4.7  141   5700    39   52  261     50           0       N     Cad  \n",
      "1  4.7  156   7700    38   55  165     40           4       N     Cad  \n",
      "2  4.7  139   7400    38   60  230     40           2    mild     Cad  \n",
      "3  4.4  142  13000    18   72    ?     55           0  Severe  Normal  \n",
      "4  4.0  140   9200    55   39  274     50           0  Severe  Normal  \n",
      "\n",
      "[5 rows x 56 columns]\n"
     ]
    }
   ],
   "source": [
    "print(\"Data Awal:\")\n",
    "print(df.head())"
   ]
  },
  {
   "cell_type": "markdown",
   "metadata": {},
   "source": [
    "Pre-Processing Data"
   ]
  },
  {
   "cell_type": "code",
   "execution_count": 6,
   "metadata": {},
   "outputs": [
    {
     "name": "stdout",
     "output_type": "stream",
     "text": [
      "\n",
      "Jumlah Missing Values per Kolom:\n",
      "No                         0\n",
      "Age                        0\n",
      "Weight                     0\n",
      "Length                     0\n",
      "Sex                        0\n",
      "BMI                      302\n",
      "DM                         1\n",
      "HTN                        0\n",
      "Current Smoker             4\n",
      "EX-Smoker                  0\n",
      "FH                         0\n",
      "Obesity                    0\n",
      "CRF                        0\n",
      "CVA                        0\n",
      "Airway disease             0\n",
      "Thyroid Disease            0\n",
      "CHF                        0\n",
      "DLP                        0\n",
      "BP                         0\n",
      "PR                         0\n",
      "Edema                      0\n",
      "Weak Peripheral Pulse      0\n",
      "Lung rales                 0\n",
      "Systolic Murmur            0\n",
      "Diastolic Murmur           0\n",
      "Typical Chest Pain         0\n",
      "Dyspnea                    0\n",
      "Function Class             0\n",
      "Atypical                   0\n",
      "Nonanginal                 1\n",
      "Exertional CP              0\n",
      "LowTH Ang                  2\n",
      "Q Wave                     0\n",
      "St Elevation               0\n",
      "St Depression              0\n",
      "Tinversion                 0\n",
      "LVH                        0\n",
      "Poor R Progression         0\n",
      "FBS                        2\n",
      "CR                         0\n",
      "TG                         0\n",
      "LDL                        0\n",
      "HDL                        0\n",
      "BUN                        0\n",
      "ESR                        1\n",
      "HB                         0\n",
      "K                          0\n",
      "Na                         0\n",
      "WBC                        0\n",
      "Lymph                      0\n",
      "Neut                       0\n",
      "PLT                        0\n",
      "EF-TTE                     0\n",
      "Region RWMA                0\n",
      "VHD                        0\n",
      "Cath                       0\n",
      "dtype: int64\n"
     ]
    }
   ],
   "source": [
    "# Memeriksa missing value\n",
    "missing_values = df.isnull().sum()\n",
    "print(\"\\nJumlah Missing Values per Kolom:\")\n",
    "print(missing_values)"
   ]
  },
  {
   "cell_type": "code",
   "execution_count": 9,
   "metadata": {},
   "outputs": [
    {
     "name": "stderr",
     "output_type": "stream",
     "text": [
      "C:\\Users\\uye\\AppData\\Local\\Temp\\ipykernel_14864\\188977482.py:6: FutureWarning: A value is trying to be set on a copy of a DataFrame or Series through chained assignment using an inplace method.\n",
      "The behavior will change in pandas 3.0. This inplace method will never work because the intermediate object on which we are setting values always behaves as a copy.\n",
      "\n",
      "For example, when doing 'df[col].method(value, inplace=True)', try using 'df.method({col: value}, inplace=True)' or df[col] = df[col].method(value) instead, to perform the operation inplace on the original object.\n",
      "\n",
      "\n",
      "  df[col].fillna(df[col].median(), inplace=True)\n",
      "C:\\Users\\uye\\AppData\\Local\\Temp\\ipykernel_14864\\188977482.py:6: FutureWarning: A value is trying to be set on a copy of a DataFrame or Series through chained assignment using an inplace method.\n",
      "The behavior will change in pandas 3.0. This inplace method will never work because the intermediate object on which we are setting values always behaves as a copy.\n",
      "\n",
      "For example, when doing 'df[col].method(value, inplace=True)', try using 'df.method({col: value}, inplace=True)' or df[col] = df[col].method(value) instead, to perform the operation inplace on the original object.\n",
      "\n",
      "\n",
      "  df[col].fillna(df[col].median(), inplace=True)\n",
      "C:\\Users\\uye\\AppData\\Local\\Temp\\ipykernel_14864\\188977482.py:6: FutureWarning: A value is trying to be set on a copy of a DataFrame or Series through chained assignment using an inplace method.\n",
      "The behavior will change in pandas 3.0. This inplace method will never work because the intermediate object on which we are setting values always behaves as a copy.\n",
      "\n",
      "For example, when doing 'df[col].method(value, inplace=True)', try using 'df.method({col: value}, inplace=True)' or df[col] = df[col].method(value) instead, to perform the operation inplace on the original object.\n",
      "\n",
      "\n",
      "  df[col].fillna(df[col].median(), inplace=True)\n",
      "C:\\Users\\uye\\AppData\\Local\\Temp\\ipykernel_14864\\188977482.py:6: FutureWarning: A value is trying to be set on a copy of a DataFrame or Series through chained assignment using an inplace method.\n",
      "The behavior will change in pandas 3.0. This inplace method will never work because the intermediate object on which we are setting values always behaves as a copy.\n",
      "\n",
      "For example, when doing 'df[col].method(value, inplace=True)', try using 'df.method({col: value}, inplace=True)' or df[col] = df[col].method(value) instead, to perform the operation inplace on the original object.\n",
      "\n",
      "\n",
      "  df[col].fillna(df[col].median(), inplace=True)\n",
      "C:\\Users\\uye\\AppData\\Local\\Temp\\ipykernel_14864\\188977482.py:4: FutureWarning: A value is trying to be set on a copy of a DataFrame or Series through chained assignment using an inplace method.\n",
      "The behavior will change in pandas 3.0. This inplace method will never work because the intermediate object on which we are setting values always behaves as a copy.\n",
      "\n",
      "For example, when doing 'df[col].method(value, inplace=True)', try using 'df.method({col: value}, inplace=True)' or df[col] = df[col].method(value) instead, to perform the operation inplace on the original object.\n",
      "\n",
      "\n",
      "  df[col].fillna(df[col].mode()[0], inplace=True)\n",
      "C:\\Users\\uye\\AppData\\Local\\Temp\\ipykernel_14864\\188977482.py:6: FutureWarning: A value is trying to be set on a copy of a DataFrame or Series through chained assignment using an inplace method.\n",
      "The behavior will change in pandas 3.0. This inplace method will never work because the intermediate object on which we are setting values always behaves as a copy.\n",
      "\n",
      "For example, when doing 'df[col].method(value, inplace=True)', try using 'df.method({col: value}, inplace=True)' or df[col] = df[col].method(value) instead, to perform the operation inplace on the original object.\n",
      "\n",
      "\n",
      "  df[col].fillna(df[col].median(), inplace=True)\n",
      "C:\\Users\\uye\\AppData\\Local\\Temp\\ipykernel_14864\\188977482.py:4: FutureWarning: A value is trying to be set on a copy of a DataFrame or Series through chained assignment using an inplace method.\n",
      "The behavior will change in pandas 3.0. This inplace method will never work because the intermediate object on which we are setting values always behaves as a copy.\n",
      "\n",
      "For example, when doing 'df[col].method(value, inplace=True)', try using 'df.method({col: value}, inplace=True)' or df[col] = df[col].method(value) instead, to perform the operation inplace on the original object.\n",
      "\n",
      "\n",
      "  df[col].fillna(df[col].mode()[0], inplace=True)\n",
      "C:\\Users\\uye\\AppData\\Local\\Temp\\ipykernel_14864\\188977482.py:6: FutureWarning: A value is trying to be set on a copy of a DataFrame or Series through chained assignment using an inplace method.\n",
      "The behavior will change in pandas 3.0. This inplace method will never work because the intermediate object on which we are setting values always behaves as a copy.\n",
      "\n",
      "For example, when doing 'df[col].method(value, inplace=True)', try using 'df.method({col: value}, inplace=True)' or df[col] = df[col].method(value) instead, to perform the operation inplace on the original object.\n",
      "\n",
      "\n",
      "  df[col].fillna(df[col].median(), inplace=True)\n",
      "C:\\Users\\uye\\AppData\\Local\\Temp\\ipykernel_14864\\188977482.py:4: FutureWarning: A value is trying to be set on a copy of a DataFrame or Series through chained assignment using an inplace method.\n",
      "The behavior will change in pandas 3.0. This inplace method will never work because the intermediate object on which we are setting values always behaves as a copy.\n",
      "\n",
      "For example, when doing 'df[col].method(value, inplace=True)', try using 'df.method({col: value}, inplace=True)' or df[col] = df[col].method(value) instead, to perform the operation inplace on the original object.\n",
      "\n",
      "\n",
      "  df[col].fillna(df[col].mode()[0], inplace=True)\n",
      "C:\\Users\\uye\\AppData\\Local\\Temp\\ipykernel_14864\\188977482.py:6: FutureWarning: A value is trying to be set on a copy of a DataFrame or Series through chained assignment using an inplace method.\n",
      "The behavior will change in pandas 3.0. This inplace method will never work because the intermediate object on which we are setting values always behaves as a copy.\n",
      "\n",
      "For example, when doing 'df[col].method(value, inplace=True)', try using 'df.method({col: value}, inplace=True)' or df[col] = df[col].method(value) instead, to perform the operation inplace on the original object.\n",
      "\n",
      "\n",
      "  df[col].fillna(df[col].median(), inplace=True)\n",
      "C:\\Users\\uye\\AppData\\Local\\Temp\\ipykernel_14864\\188977482.py:4: FutureWarning: A value is trying to be set on a copy of a DataFrame or Series through chained assignment using an inplace method.\n",
      "The behavior will change in pandas 3.0. This inplace method will never work because the intermediate object on which we are setting values always behaves as a copy.\n",
      "\n",
      "For example, when doing 'df[col].method(value, inplace=True)', try using 'df.method({col: value}, inplace=True)' or df[col] = df[col].method(value) instead, to perform the operation inplace on the original object.\n",
      "\n",
      "\n",
      "  df[col].fillna(df[col].mode()[0], inplace=True)\n",
      "C:\\Users\\uye\\AppData\\Local\\Temp\\ipykernel_14864\\188977482.py:6: FutureWarning: A value is trying to be set on a copy of a DataFrame or Series through chained assignment using an inplace method.\n",
      "The behavior will change in pandas 3.0. This inplace method will never work because the intermediate object on which we are setting values always behaves as a copy.\n",
      "\n",
      "For example, when doing 'df[col].method(value, inplace=True)', try using 'df.method({col: value}, inplace=True)' or df[col] = df[col].method(value) instead, to perform the operation inplace on the original object.\n",
      "\n",
      "\n",
      "  df[col].fillna(df[col].median(), inplace=True)\n",
      "C:\\Users\\uye\\AppData\\Local\\Temp\\ipykernel_14864\\188977482.py:4: FutureWarning: A value is trying to be set on a copy of a DataFrame or Series through chained assignment using an inplace method.\n",
      "The behavior will change in pandas 3.0. This inplace method will never work because the intermediate object on which we are setting values always behaves as a copy.\n",
      "\n",
      "For example, when doing 'df[col].method(value, inplace=True)', try using 'df.method({col: value}, inplace=True)' or df[col] = df[col].method(value) instead, to perform the operation inplace on the original object.\n",
      "\n",
      "\n",
      "  df[col].fillna(df[col].mode()[0], inplace=True)\n",
      "C:\\Users\\uye\\AppData\\Local\\Temp\\ipykernel_14864\\188977482.py:6: FutureWarning: A value is trying to be set on a copy of a DataFrame or Series through chained assignment using an inplace method.\n",
      "The behavior will change in pandas 3.0. This inplace method will never work because the intermediate object on which we are setting values always behaves as a copy.\n",
      "\n",
      "For example, when doing 'df[col].method(value, inplace=True)', try using 'df.method({col: value}, inplace=True)' or df[col] = df[col].method(value) instead, to perform the operation inplace on the original object.\n",
      "\n",
      "\n",
      "  df[col].fillna(df[col].median(), inplace=True)\n",
      "C:\\Users\\uye\\AppData\\Local\\Temp\\ipykernel_14864\\188977482.py:6: FutureWarning: A value is trying to be set on a copy of a DataFrame or Series through chained assignment using an inplace method.\n",
      "The behavior will change in pandas 3.0. This inplace method will never work because the intermediate object on which we are setting values always behaves as a copy.\n",
      "\n",
      "For example, when doing 'df[col].method(value, inplace=True)', try using 'df.method({col: value}, inplace=True)' or df[col] = df[col].method(value) instead, to perform the operation inplace on the original object.\n",
      "\n",
      "\n",
      "  df[col].fillna(df[col].median(), inplace=True)\n",
      "C:\\Users\\uye\\AppData\\Local\\Temp\\ipykernel_14864\\188977482.py:4: FutureWarning: A value is trying to be set on a copy of a DataFrame or Series through chained assignment using an inplace method.\n",
      "The behavior will change in pandas 3.0. This inplace method will never work because the intermediate object on which we are setting values always behaves as a copy.\n",
      "\n",
      "For example, when doing 'df[col].method(value, inplace=True)', try using 'df.method({col: value}, inplace=True)' or df[col] = df[col].method(value) instead, to perform the operation inplace on the original object.\n",
      "\n",
      "\n",
      "  df[col].fillna(df[col].mode()[0], inplace=True)\n",
      "C:\\Users\\uye\\AppData\\Local\\Temp\\ipykernel_14864\\188977482.py:6: FutureWarning: A value is trying to be set on a copy of a DataFrame or Series through chained assignment using an inplace method.\n",
      "The behavior will change in pandas 3.0. This inplace method will never work because the intermediate object on which we are setting values always behaves as a copy.\n",
      "\n",
      "For example, when doing 'df[col].method(value, inplace=True)', try using 'df.method({col: value}, inplace=True)' or df[col] = df[col].method(value) instead, to perform the operation inplace on the original object.\n",
      "\n",
      "\n",
      "  df[col].fillna(df[col].median(), inplace=True)\n",
      "C:\\Users\\uye\\AppData\\Local\\Temp\\ipykernel_14864\\188977482.py:4: FutureWarning: A value is trying to be set on a copy of a DataFrame or Series through chained assignment using an inplace method.\n",
      "The behavior will change in pandas 3.0. This inplace method will never work because the intermediate object on which we are setting values always behaves as a copy.\n",
      "\n",
      "For example, when doing 'df[col].method(value, inplace=True)', try using 'df.method({col: value}, inplace=True)' or df[col] = df[col].method(value) instead, to perform the operation inplace on the original object.\n",
      "\n",
      "\n",
      "  df[col].fillna(df[col].mode()[0], inplace=True)\n",
      "C:\\Users\\uye\\AppData\\Local\\Temp\\ipykernel_14864\\188977482.py:6: FutureWarning: A value is trying to be set on a copy of a DataFrame or Series through chained assignment using an inplace method.\n",
      "The behavior will change in pandas 3.0. This inplace method will never work because the intermediate object on which we are setting values always behaves as a copy.\n",
      "\n",
      "For example, when doing 'df[col].method(value, inplace=True)', try using 'df.method({col: value}, inplace=True)' or df[col] = df[col].method(value) instead, to perform the operation inplace on the original object.\n",
      "\n",
      "\n",
      "  df[col].fillna(df[col].median(), inplace=True)\n",
      "C:\\Users\\uye\\AppData\\Local\\Temp\\ipykernel_14864\\188977482.py:6: FutureWarning: A value is trying to be set on a copy of a DataFrame or Series through chained assignment using an inplace method.\n",
      "The behavior will change in pandas 3.0. This inplace method will never work because the intermediate object on which we are setting values always behaves as a copy.\n",
      "\n",
      "For example, when doing 'df[col].method(value, inplace=True)', try using 'df.method({col: value}, inplace=True)' or df[col] = df[col].method(value) instead, to perform the operation inplace on the original object.\n",
      "\n",
      "\n",
      "  df[col].fillna(df[col].median(), inplace=True)\n",
      "C:\\Users\\uye\\AppData\\Local\\Temp\\ipykernel_14864\\188977482.py:6: FutureWarning: A value is trying to be set on a copy of a DataFrame or Series through chained assignment using an inplace method.\n",
      "The behavior will change in pandas 3.0. This inplace method will never work because the intermediate object on which we are setting values always behaves as a copy.\n",
      "\n",
      "For example, when doing 'df[col].method(value, inplace=True)', try using 'df.method({col: value}, inplace=True)' or df[col] = df[col].method(value) instead, to perform the operation inplace on the original object.\n",
      "\n",
      "\n",
      "  df[col].fillna(df[col].median(), inplace=True)\n",
      "C:\\Users\\uye\\AppData\\Local\\Temp\\ipykernel_14864\\188977482.py:6: FutureWarning: A value is trying to be set on a copy of a DataFrame or Series through chained assignment using an inplace method.\n",
      "The behavior will change in pandas 3.0. This inplace method will never work because the intermediate object on which we are setting values always behaves as a copy.\n",
      "\n",
      "For example, when doing 'df[col].method(value, inplace=True)', try using 'df.method({col: value}, inplace=True)' or df[col] = df[col].method(value) instead, to perform the operation inplace on the original object.\n",
      "\n",
      "\n",
      "  df[col].fillna(df[col].median(), inplace=True)\n",
      "C:\\Users\\uye\\AppData\\Local\\Temp\\ipykernel_14864\\188977482.py:6: FutureWarning: A value is trying to be set on a copy of a DataFrame or Series through chained assignment using an inplace method.\n",
      "The behavior will change in pandas 3.0. This inplace method will never work because the intermediate object on which we are setting values always behaves as a copy.\n",
      "\n",
      "For example, when doing 'df[col].method(value, inplace=True)', try using 'df.method({col: value}, inplace=True)' or df[col] = df[col].method(value) instead, to perform the operation inplace on the original object.\n",
      "\n",
      "\n",
      "  df[col].fillna(df[col].median(), inplace=True)\n",
      "C:\\Users\\uye\\AppData\\Local\\Temp\\ipykernel_14864\\188977482.py:6: FutureWarning: A value is trying to be set on a copy of a DataFrame or Series through chained assignment using an inplace method.\n",
      "The behavior will change in pandas 3.0. This inplace method will never work because the intermediate object on which we are setting values always behaves as a copy.\n",
      "\n",
      "For example, when doing 'df[col].method(value, inplace=True)', try using 'df.method({col: value}, inplace=True)' or df[col] = df[col].method(value) instead, to perform the operation inplace on the original object.\n",
      "\n",
      "\n",
      "  df[col].fillna(df[col].median(), inplace=True)\n",
      "C:\\Users\\uye\\AppData\\Local\\Temp\\ipykernel_14864\\188977482.py:6: FutureWarning: A value is trying to be set on a copy of a DataFrame or Series through chained assignment using an inplace method.\n",
      "The behavior will change in pandas 3.0. This inplace method will never work because the intermediate object on which we are setting values always behaves as a copy.\n",
      "\n",
      "For example, when doing 'df[col].method(value, inplace=True)', try using 'df.method({col: value}, inplace=True)' or df[col] = df[col].method(value) instead, to perform the operation inplace on the original object.\n",
      "\n",
      "\n",
      "  df[col].fillna(df[col].median(), inplace=True)\n",
      "C:\\Users\\uye\\AppData\\Local\\Temp\\ipykernel_14864\\188977482.py:4: FutureWarning: A value is trying to be set on a copy of a DataFrame or Series through chained assignment using an inplace method.\n",
      "The behavior will change in pandas 3.0. This inplace method will never work because the intermediate object on which we are setting values always behaves as a copy.\n",
      "\n",
      "For example, when doing 'df[col].method(value, inplace=True)', try using 'df.method({col: value}, inplace=True)' or df[col] = df[col].method(value) instead, to perform the operation inplace on the original object.\n",
      "\n",
      "\n",
      "  df[col].fillna(df[col].mode()[0], inplace=True)\n",
      "C:\\Users\\uye\\AppData\\Local\\Temp\\ipykernel_14864\\188977482.py:6: FutureWarning: A value is trying to be set on a copy of a DataFrame or Series through chained assignment using an inplace method.\n",
      "The behavior will change in pandas 3.0. This inplace method will never work because the intermediate object on which we are setting values always behaves as a copy.\n",
      "\n",
      "For example, when doing 'df[col].method(value, inplace=True)', try using 'df.method({col: value}, inplace=True)' or df[col] = df[col].method(value) instead, to perform the operation inplace on the original object.\n",
      "\n",
      "\n",
      "  df[col].fillna(df[col].median(), inplace=True)\n",
      "C:\\Users\\uye\\AppData\\Local\\Temp\\ipykernel_14864\\188977482.py:6: FutureWarning: A value is trying to be set on a copy of a DataFrame or Series through chained assignment using an inplace method.\n",
      "The behavior will change in pandas 3.0. This inplace method will never work because the intermediate object on which we are setting values always behaves as a copy.\n",
      "\n",
      "For example, when doing 'df[col].method(value, inplace=True)', try using 'df.method({col: value}, inplace=True)' or df[col] = df[col].method(value) instead, to perform the operation inplace on the original object.\n",
      "\n",
      "\n",
      "  df[col].fillna(df[col].median(), inplace=True)\n",
      "C:\\Users\\uye\\AppData\\Local\\Temp\\ipykernel_14864\\188977482.py:4: FutureWarning: A value is trying to be set on a copy of a DataFrame or Series through chained assignment using an inplace method.\n",
      "The behavior will change in pandas 3.0. This inplace method will never work because the intermediate object on which we are setting values always behaves as a copy.\n",
      "\n",
      "For example, when doing 'df[col].method(value, inplace=True)', try using 'df.method({col: value}, inplace=True)' or df[col] = df[col].method(value) instead, to perform the operation inplace on the original object.\n",
      "\n",
      "\n",
      "  df[col].fillna(df[col].mode()[0], inplace=True)\n"
     ]
    }
   ],
   "source": [
    "# Mengatasi missing values\n",
    "for col in df.columns:\n",
    "    if df[col].dtype == 'object':  # Jika kategorikal, isi dengan modus\n",
    "        df[col].fillna(df[col].mode()[0], inplace=True)\n",
    "    else:  # Jika numerik, isi dengan median\n",
    "        df[col].fillna(df[col].median(), inplace=True)"
   ]
  },
  {
   "cell_type": "code",
   "execution_count": 10,
   "metadata": {},
   "outputs": [
    {
     "name": "stdout",
     "output_type": "stream",
     "text": [
      "\n",
      "Jumlah Missing Values setelah penanganan:\n",
      "No                       0\n",
      "Age                      0\n",
      "Weight                   0\n",
      "Length                   0\n",
      "Sex                      0\n",
      "BMI                      0\n",
      "DM                       0\n",
      "HTN                      0\n",
      "Current Smoker           0\n",
      "EX-Smoker                0\n",
      "FH                       0\n",
      "Obesity                  0\n",
      "CRF                      0\n",
      "CVA                      0\n",
      "Airway disease           0\n",
      "Thyroid Disease          0\n",
      "CHF                      0\n",
      "DLP                      0\n",
      "BP                       0\n",
      "PR                       0\n",
      "Edema                    0\n",
      "Weak Peripheral Pulse    0\n",
      "Lung rales               0\n",
      "Systolic Murmur          0\n",
      "Diastolic Murmur         0\n",
      "Typical Chest Pain       0\n",
      "Dyspnea                  0\n",
      "Function Class           0\n",
      "Atypical                 0\n",
      "Nonanginal               0\n",
      "Exertional CP            0\n",
      "LowTH Ang                0\n",
      "Q Wave                   0\n",
      "St Elevation             0\n",
      "St Depression            0\n",
      "Tinversion               0\n",
      "LVH                      0\n",
      "Poor R Progression       0\n",
      "FBS                      0\n",
      "CR                       0\n",
      "TG                       0\n",
      "LDL                      0\n",
      "HDL                      0\n",
      "BUN                      0\n",
      "ESR                      0\n",
      "HB                       0\n",
      "K                        0\n",
      "Na                       0\n",
      "WBC                      0\n",
      "Lymph                    0\n",
      "Neut                     0\n",
      "PLT                      0\n",
      "EF-TTE                   0\n",
      "Region RWMA              0\n",
      "VHD                      0\n",
      "Cath                     0\n",
      "dtype: int64\n"
     ]
    }
   ],
   "source": [
    "print(\"\\nJumlah Missing Values setelah penanganan:\")\n",
    "print(df.isnull().sum())"
   ]
  },
  {
   "cell_type": "markdown",
   "metadata": {},
   "source": [
    "```df.isnull().sum()``` menghitung jumlah nilai kosong di setiap kolom"
   ]
  },
  {
   "cell_type": "code",
   "execution_count": 11,
   "metadata": {},
   "outputs": [
    {
     "name": "stdout",
     "output_type": "stream",
     "text": [
      "\n",
      "Jumlah duplikasi dalam data: 0\n"
     ]
    }
   ],
   "source": [
    "# Menghapus duplikasi jika ada\n",
    "duplicate_rows = df.duplicated().sum()\n",
    "print(\"\\nJumlah duplikasi dalam data:\", duplicate_rows)\n",
    "if duplicate_rows > 0:\n",
    "    df.drop_duplicates(inplace=True)\n",
    "    print(\"Duplikasi telah dihapus.\")"
   ]
  },
  {
   "cell_type": "markdown",
   "metadata": {},
   "source": [
    "- Pada kolom kategori (object) → Missing values diisi dengan modus (nilai yang paling sering muncul).\n",
    "- Pada kolom numerik (int atau float) → Missing values diisi dengan median."
   ]
  },
  {
   "cell_type": "code",
   "execution_count": 12,
   "metadata": {},
   "outputs": [
    {
     "name": "stdout",
     "output_type": "stream",
     "text": [
      "Outlier pada No: 0\n",
      "Outlier pada Age: 0\n",
      "Outlier pada Weight: 3\n",
      "Outlier pada Length: 0\n",
      "Outlier pada PR: 13\n",
      "Outlier pada Typical Chest Pain: 0\n",
      "Outlier pada Function Class: 0\n",
      "Outlier pada Tinversion: 0\n",
      "Outlier pada FBS: 30\n",
      "Outlier pada CR: 8\n",
      "Outlier pada HDL: 6\n",
      "Outlier pada ESR: 17\n",
      "Outlier pada HB: 7\n",
      "Outlier pada K: 2\n",
      "Outlier pada Na: 15\n",
      "Outlier pada WBC: 9\n",
      "Outlier pada Lymph: 3\n",
      "Outlier pada Neut: 1\n",
      "Outlier pada EF-TTE: 15\n",
      "Outlier pada Region RWMA: 28\n"
     ]
    }
   ],
   "source": [
    "# Memeriksa outlier menggunakan IQR dan mengatasinya\n",
    "for col in df.select_dtypes(include=['int64', 'float64']).columns:\n",
    "    Q1 = df[col].quantile(0.25)\n",
    "    Q3 = df[col].quantile(0.75)\n",
    "    IQR = Q3 - Q1\n",
    "    lower_bound = Q1 - 1.5 * IQR\n",
    "    upper_bound = Q3 + 1.5 * IQR\n",
    "    outliers = ((df[col] < lower_bound) | (df[col] > upper_bound)).sum()\n",
    "    print(f\"Outlier pada {col}: {outliers}\")"
   ]
  },
  {
   "cell_type": "markdown",
   "metadata": {},
   "source": [
    "```df.duplicated().sum()``` menghitung jumlah baris yang duplikat.\n",
    "Jika ada duplikasi, maka ```df.drop_duplicates(inplace=True)``` menghapusnya."
   ]
  },
  {
   "cell_type": "code",
   "execution_count": 14,
   "metadata": {},
   "outputs": [],
   "source": [
    "# Mengatasi outlier dengan winsorizing\n",
    "df[col] = df[col].clip(lower_bound, upper_bound)"
   ]
  },
  {
   "cell_type": "code",
   "execution_count": 15,
   "metadata": {},
   "outputs": [],
   "source": [
    "# Mengubah semua kolom menjadi numerik jika masih ada kategori\n",
    "label_encoders = {}\n",
    "for col in df.columns:\n",
    "    if df[col].dtype == 'object':  # Jika kategorikal, ubah ke numerik\n",
    "        le = LabelEncoder()\n",
    "        df[col] = le.fit_transform(df[col])\n",
    "        label_encoders[col] = le"
   ]
  },
  {
   "cell_type": "code",
   "execution_count": 16,
   "metadata": {},
   "outputs": [
    {
     "name": "stdout",
     "output_type": "stream",
     "text": [
      "\n",
      "Data setelah preprocessing:\n",
      "   No  Age  Weight  Length  Sex  BMI  DM  HTN  Current Smoker  EX-Smoker  ...  \\\n",
      "0   1   53      90     175    1    0   1    0               1          1  ...   \n",
      "1   2   67      70     157    0    0   1    0               3          1  ...   \n",
      "2   3   54      54     164    1    0   1    1               1          1  ...   \n",
      "3   4   66      67     158    0    0   1    0               3          1  ...   \n",
      "4   5   50      87     153    0    0   1    0               3          1  ...   \n",
      "\n",
      "     K   Na    WBC  Lymph  Neut  PLT  EF-TTE  Region RWMA  VHD  Cath  \n",
      "0  4.7  141   5700     39    52   92      50          0.0    1     0  \n",
      "1  4.7  156   7700     38    55   10      40          2.5    1     0  \n",
      "2  4.7  139   7400     38    60   67      40          2.0    3     0  \n",
      "3  4.4  142  13000     18    72  134      55          0.0    2     1  \n",
      "4  4.0  140   9200     55    39  102      50          0.0    2     1  \n",
      "\n",
      "[5 rows x 56 columns]\n"
     ]
    }
   ],
   "source": [
    "print(\"\\nData setelah preprocessing:\")\n",
    "print(df.head())"
   ]
  },
  {
   "cell_type": "markdown",
   "metadata": {},
   "source": [
    "- Age, Weight, Length → Berisi angka yang mencerminkan data asli pasien.\n",
    "- Sex → Sudah dikonversi ke angka (0 untuk Female, 1 untuk Male).\n",
    "= BMI, DM, HTN, Smoker, EX-Smoker → Semua sudah dalam format numerik.\n",
    "- Beberapa fitur lain seperti WBC, Lymph, Neut, PLT, EF-TTE menunjukkan data medis pasien."
   ]
  },
  {
   "cell_type": "code",
   "execution_count": 17,
   "metadata": {},
   "outputs": [],
   "source": [
    "# Melakukan proses normalisasi pada masing-masing atribut\n",
    "scaler = MinMaxScaler()\n",
    "df_normalized = pd.DataFrame(scaler.fit_transform(df), columns=df.columns)"
   ]
  },
  {
   "cell_type": "code",
   "execution_count": 18,
   "metadata": {},
   "outputs": [
    {
     "name": "stdout",
     "output_type": "stream",
     "text": [
      "\n",
      "Data setelah normalisasi:\n",
      "         No       Age    Weight    Length  Sex  BMI   DM  HTN  Current Smoker  \\\n",
      "0  0.000000  0.410714  0.583333  0.729167  1.0  0.0  1.0  0.0        0.333333   \n",
      "1  0.003311  0.660714  0.305556  0.354167  0.0  0.0  1.0  0.0        1.000000   \n",
      "2  0.006623  0.428571  0.083333  0.500000  1.0  0.0  1.0  1.0        0.333333   \n",
      "3  0.009934  0.642857  0.263889  0.375000  0.0  0.0  1.0  0.0        1.000000   \n",
      "4  0.013245  0.357143  0.541667  0.270833  0.0  0.0  1.0  0.0        1.000000   \n",
      "\n",
      "   EX-Smoker  ...         K        Na       WBC     Lymph      Neut       PLT  \\\n",
      "0        0.5  ...  0.472222  0.464286  0.139860  0.603774  0.350877  0.686567   \n",
      "1        0.5  ...  0.472222  1.000000  0.279720  0.584906  0.403509  0.074627   \n",
      "2        0.5  ...  0.472222  0.392857  0.258741  0.584906  0.491228  0.500000   \n",
      "3        0.5  ...  0.388889  0.500000  0.650350  0.207547  0.701754  1.000000   \n",
      "4        0.5  ...  0.277778  0.428571  0.384615  0.905660  0.122807  0.761194   \n",
      "\n",
      "     EF-TTE  Region RWMA       VHD  Cath  \n",
      "0  0.777778          0.0  0.333333   0.0  \n",
      "1  0.555556          1.0  0.333333   0.0  \n",
      "2  0.555556          0.8  1.000000   0.0  \n",
      "3  0.888889          0.0  0.666667   1.0  \n",
      "4  0.777778          0.0  0.666667   1.0  \n",
      "\n",
      "[5 rows x 56 columns]\n"
     ]
    }
   ],
   "source": [
    "print(\"\\nData setelah normalisasi:\")\n",
    "print(df_normalized.head())"
   ]
  },
  {
   "cell_type": "code",
   "execution_count": null,
   "metadata": {},
   "outputs": [],
   "source": []
  }
 ],
 "metadata": {
  "kernelspec": {
   "display_name": "Python 3",
   "language": "python",
   "name": "python3"
  },
  "language_info": {
   "codemirror_mode": {
    "name": "ipython",
    "version": 3
   },
   "file_extension": ".py",
   "mimetype": "text/x-python",
   "name": "python",
   "nbconvert_exporter": "python",
   "pygments_lexer": "ipython3",
   "version": "3.12.6"
  }
 },
 "nbformat": 4,
 "nbformat_minor": 2
}
